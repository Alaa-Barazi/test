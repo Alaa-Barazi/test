{
  "nbformat": 4,
  "nbformat_minor": 0,
  "metadata": {
    "colab": {
      "provenance": [],
      "authorship_tag": "ABX9TyN/InuRgWyVZL8tdOSM+EV/",
      "include_colab_link": true
    },
    "kernelspec": {
      "name": "python3",
      "display_name": "Python 3"
    },
    "language_info": {
      "name": "python"
    },
    "widgets": {
      "application/vnd.jupyter.widget-state+json": {
        "ac391bc8097140e893cb6dc22ed56546": {
          "model_module": "@jupyter-widgets/controls",
          "model_name": "ButtonModel",
          "model_module_version": "1.5.0",
          "state": {
            "_dom_classes": [],
            "_model_module": "@jupyter-widgets/controls",
            "_model_module_version": "1.5.0",
            "_model_name": "ButtonModel",
            "_view_count": null,
            "_view_module": "@jupyter-widgets/controls",
            "_view_module_version": "1.5.0",
            "_view_name": "ButtonView",
            "button_style": "",
            "description": "Click Me!",
            "disabled": false,
            "icon": "",
            "layout": "IPY_MODEL_a73e4668b0af4aa195a00ca052d05af5",
            "style": "IPY_MODEL_cf1956825723446ca991eac3bb140abf",
            "tooltip": ""
          }
        },
        "a73e4668b0af4aa195a00ca052d05af5": {
          "model_module": "@jupyter-widgets/base",
          "model_name": "LayoutModel",
          "model_module_version": "1.2.0",
          "state": {
            "_model_module": "@jupyter-widgets/base",
            "_model_module_version": "1.2.0",
            "_model_name": "LayoutModel",
            "_view_count": null,
            "_view_module": "@jupyter-widgets/base",
            "_view_module_version": "1.2.0",
            "_view_name": "LayoutView",
            "align_content": null,
            "align_items": null,
            "align_self": null,
            "border": null,
            "bottom": null,
            "display": null,
            "flex": null,
            "flex_flow": null,
            "grid_area": null,
            "grid_auto_columns": null,
            "grid_auto_flow": null,
            "grid_auto_rows": null,
            "grid_column": null,
            "grid_gap": null,
            "grid_row": null,
            "grid_template_areas": null,
            "grid_template_columns": null,
            "grid_template_rows": null,
            "height": null,
            "justify_content": null,
            "justify_items": null,
            "left": null,
            "margin": null,
            "max_height": null,
            "max_width": null,
            "min_height": null,
            "min_width": null,
            "object_fit": null,
            "object_position": null,
            "order": null,
            "overflow": null,
            "overflow_x": null,
            "overflow_y": null,
            "padding": null,
            "right": null,
            "top": null,
            "visibility": null,
            "width": null
          }
        },
        "cf1956825723446ca991eac3bb140abf": {
          "model_module": "@jupyter-widgets/controls",
          "model_name": "ButtonStyleModel",
          "model_module_version": "1.5.0",
          "state": {
            "_model_module": "@jupyter-widgets/controls",
            "_model_module_version": "1.5.0",
            "_model_name": "ButtonStyleModel",
            "_view_count": null,
            "_view_module": "@jupyter-widgets/base",
            "_view_module_version": "1.2.0",
            "_view_name": "StyleView",
            "button_color": null,
            "font_weight": ""
          }
        },
        "1c805ad873e34abc98b6aa70ec6d8cfe": {
          "model_module": "@jupyter-widgets/output",
          "model_name": "OutputModel",
          "model_module_version": "1.0.0",
          "state": {
            "_dom_classes": [],
            "_model_module": "@jupyter-widgets/output",
            "_model_module_version": "1.0.0",
            "_model_name": "OutputModel",
            "_view_count": null,
            "_view_module": "@jupyter-widgets/output",
            "_view_module_version": "1.0.0",
            "_view_name": "OutputView",
            "layout": "IPY_MODEL_db2ff6985a1e4187a04e38c593cad231",
            "msg_id": "",
            "outputs": [
              {
                "output_type": "stream",
                "name": "stdout",
                "text": [
                  "One\n",
                  "Two\n",
                  "ThreeTest Text\n"
                ]
              },
              {
                "output_type": "stream",
                "name": "stdout",
                "text": [
                  "One\n",
                  "Two\n",
                  "ThreeTest Text\n"
                ]
              }
            ]
          }
        },
        "db2ff6985a1e4187a04e38c593cad231": {
          "model_module": "@jupyter-widgets/base",
          "model_name": "LayoutModel",
          "model_module_version": "1.2.0",
          "state": {
            "_model_module": "@jupyter-widgets/base",
            "_model_module_version": "1.2.0",
            "_model_name": "LayoutModel",
            "_view_count": null,
            "_view_module": "@jupyter-widgets/base",
            "_view_module_version": "1.2.0",
            "_view_name": "LayoutView",
            "align_content": null,
            "align_items": null,
            "align_self": null,
            "border": null,
            "bottom": null,
            "display": null,
            "flex": null,
            "flex_flow": null,
            "grid_area": null,
            "grid_auto_columns": null,
            "grid_auto_flow": null,
            "grid_auto_rows": null,
            "grid_column": null,
            "grid_gap": null,
            "grid_row": null,
            "grid_template_areas": null,
            "grid_template_columns": null,
            "grid_template_rows": null,
            "height": null,
            "justify_content": null,
            "justify_items": null,
            "left": null,
            "margin": null,
            "max_height": null,
            "max_width": null,
            "min_height": null,
            "min_width": null,
            "object_fit": null,
            "object_position": null,
            "order": null,
            "overflow": null,
            "overflow_x": null,
            "overflow_y": null,
            "padding": null,
            "right": null,
            "top": null,
            "visibility": null,
            "width": null
          }
        },
        "6e018baab73a4cdbbaffee3050ff8220": {
          "model_module": "@jupyter-widgets/controls",
          "model_name": "TextModel",
          "model_module_version": "1.5.0",
          "state": {
            "_dom_classes": [],
            "_model_module": "@jupyter-widgets/controls",
            "_model_module_version": "1.5.0",
            "_model_name": "TextModel",
            "_view_count": null,
            "_view_module": "@jupyter-widgets/controls",
            "_view_module_version": "1.5.0",
            "_view_name": "TextView",
            "continuous_update": true,
            "description": "",
            "description_tooltip": null,
            "disabled": false,
            "layout": "IPY_MODEL_0770744cd1ff466d98c00bb12e9b28cf",
            "placeholder": "​",
            "style": "IPY_MODEL_4764c21e98ff4cf68b967aadac8950e0",
            "value": "Addition"
          }
        },
        "0770744cd1ff466d98c00bb12e9b28cf": {
          "model_module": "@jupyter-widgets/base",
          "model_name": "LayoutModel",
          "model_module_version": "1.2.0",
          "state": {
            "_model_module": "@jupyter-widgets/base",
            "_model_module_version": "1.2.0",
            "_model_name": "LayoutModel",
            "_view_count": null,
            "_view_module": "@jupyter-widgets/base",
            "_view_module_version": "1.2.0",
            "_view_name": "LayoutView",
            "align_content": null,
            "align_items": null,
            "align_self": null,
            "border": null,
            "bottom": null,
            "display": null,
            "flex": null,
            "flex_flow": null,
            "grid_area": null,
            "grid_auto_columns": null,
            "grid_auto_flow": null,
            "grid_auto_rows": null,
            "grid_column": null,
            "grid_gap": null,
            "grid_row": null,
            "grid_template_areas": null,
            "grid_template_columns": null,
            "grid_template_rows": null,
            "height": null,
            "justify_content": null,
            "justify_items": null,
            "left": null,
            "margin": null,
            "max_height": null,
            "max_width": null,
            "min_height": null,
            "min_width": null,
            "object_fit": null,
            "object_position": null,
            "order": null,
            "overflow": null,
            "overflow_x": null,
            "overflow_y": null,
            "padding": null,
            "right": null,
            "top": null,
            "visibility": null,
            "width": null
          }
        },
        "4764c21e98ff4cf68b967aadac8950e0": {
          "model_module": "@jupyter-widgets/controls",
          "model_name": "DescriptionStyleModel",
          "model_module_version": "1.5.0",
          "state": {
            "_model_module": "@jupyter-widgets/controls",
            "_model_module_version": "1.5.0",
            "_model_name": "DescriptionStyleModel",
            "_view_count": null,
            "_view_module": "@jupyter-widgets/base",
            "_view_module_version": "1.2.0",
            "_view_name": "StyleView",
            "description_width": ""
          }
        },
        "eb3f82ddd94a40169aacfe03053a6664": {
          "model_module": "@jupyter-widgets/controls",
          "model_name": "DropdownModel",
          "model_module_version": "1.5.0",
          "state": {
            "_dom_classes": [],
            "_model_module": "@jupyter-widgets/controls",
            "_model_module_version": "1.5.0",
            "_model_name": "DropdownModel",
            "_options_labels": [
              "Addition",
              "Multiplication",
              "Subtraction",
              "Division"
            ],
            "_view_count": null,
            "_view_module": "@jupyter-widgets/controls",
            "_view_module_version": "1.5.0",
            "_view_name": "DropdownView",
            "description": "Task:",
            "description_tooltip": null,
            "disabled": false,
            "index": 0,
            "layout": "IPY_MODEL_6633e27e21024b1fbad6cae670fcc632",
            "style": "IPY_MODEL_685d7f8a5bb4489e8267c3384cc66660"
          }
        },
        "6633e27e21024b1fbad6cae670fcc632": {
          "model_module": "@jupyter-widgets/base",
          "model_name": "LayoutModel",
          "model_module_version": "1.2.0",
          "state": {
            "_model_module": "@jupyter-widgets/base",
            "_model_module_version": "1.2.0",
            "_model_name": "LayoutModel",
            "_view_count": null,
            "_view_module": "@jupyter-widgets/base",
            "_view_module_version": "1.2.0",
            "_view_name": "LayoutView",
            "align_content": null,
            "align_items": null,
            "align_self": null,
            "border": null,
            "bottom": null,
            "display": null,
            "flex": null,
            "flex_flow": null,
            "grid_area": null,
            "grid_auto_columns": null,
            "grid_auto_flow": null,
            "grid_auto_rows": null,
            "grid_column": null,
            "grid_gap": null,
            "grid_row": null,
            "grid_template_areas": null,
            "grid_template_columns": null,
            "grid_template_rows": null,
            "height": null,
            "justify_content": null,
            "justify_items": null,
            "left": null,
            "margin": null,
            "max_height": null,
            "max_width": null,
            "min_height": null,
            "min_width": null,
            "object_fit": null,
            "object_position": null,
            "order": null,
            "overflow": null,
            "overflow_x": null,
            "overflow_y": null,
            "padding": null,
            "right": null,
            "top": null,
            "visibility": null,
            "width": null
          }
        },
        "685d7f8a5bb4489e8267c3384cc66660": {
          "model_module": "@jupyter-widgets/controls",
          "model_name": "DescriptionStyleModel",
          "model_module_version": "1.5.0",
          "state": {
            "_model_module": "@jupyter-widgets/controls",
            "_model_module_version": "1.5.0",
            "_model_name": "DescriptionStyleModel",
            "_view_count": null,
            "_view_module": "@jupyter-widgets/base",
            "_view_module_version": "1.2.0",
            "_view_name": "StyleView",
            "description_width": ""
          }
        },
        "e48b5a24e0c844ad8e0836b3570cba55": {
          "model_module": "@jupyter-widgets/controls",
          "model_name": "DropdownModel",
          "model_module_version": "1.5.0",
          "state": {
            "_dom_classes": [],
            "_model_module": "@jupyter-widgets/controls",
            "_model_module_version": "1.5.0",
            "_model_name": "DropdownModel",
            "_options_labels": [
              "",
              "Alaa Barazi",
              "Nour Raiaheen"
            ],
            "_view_count": null,
            "_view_module": "@jupyter-widgets/controls",
            "_view_module_version": "1.5.0",
            "_view_name": "DropdownView",
            "description": "Student:",
            "description_tooltip": null,
            "disabled": false,
            "index": 2,
            "layout": "IPY_MODEL_bef29f200be4467b9ae1bc991e03c3a5",
            "style": "IPY_MODEL_b92c5f6aad7844e8ac6de00542494838"
          }
        },
        "bef29f200be4467b9ae1bc991e03c3a5": {
          "model_module": "@jupyter-widgets/base",
          "model_name": "LayoutModel",
          "model_module_version": "1.2.0",
          "state": {
            "_model_module": "@jupyter-widgets/base",
            "_model_module_version": "1.2.0",
            "_model_name": "LayoutModel",
            "_view_count": null,
            "_view_module": "@jupyter-widgets/base",
            "_view_module_version": "1.2.0",
            "_view_name": "LayoutView",
            "align_content": null,
            "align_items": null,
            "align_self": null,
            "border": null,
            "bottom": null,
            "display": null,
            "flex": null,
            "flex_flow": null,
            "grid_area": null,
            "grid_auto_columns": null,
            "grid_auto_flow": null,
            "grid_auto_rows": null,
            "grid_column": null,
            "grid_gap": null,
            "grid_row": null,
            "grid_template_areas": null,
            "grid_template_columns": null,
            "grid_template_rows": null,
            "height": null,
            "justify_content": null,
            "justify_items": null,
            "left": null,
            "margin": null,
            "max_height": null,
            "max_width": null,
            "min_height": null,
            "min_width": null,
            "object_fit": null,
            "object_position": null,
            "order": null,
            "overflow": null,
            "overflow_x": null,
            "overflow_y": null,
            "padding": null,
            "right": null,
            "top": null,
            "visibility": null,
            "width": null
          }
        },
        "b92c5f6aad7844e8ac6de00542494838": {
          "model_module": "@jupyter-widgets/controls",
          "model_name": "DescriptionStyleModel",
          "model_module_version": "1.5.0",
          "state": {
            "_model_module": "@jupyter-widgets/controls",
            "_model_module_version": "1.5.0",
            "_model_name": "DescriptionStyleModel",
            "_view_count": null,
            "_view_module": "@jupyter-widgets/base",
            "_view_module_version": "1.2.0",
            "_view_name": "StyleView",
            "description_width": ""
          }
        },
        "ea4e9361436d46f8895d1e476f33fdba": {
          "model_module": "@jupyter-widgets/output",
          "model_name": "OutputModel",
          "model_module_version": "1.0.0",
          "state": {
            "_dom_classes": [],
            "_model_module": "@jupyter-widgets/output",
            "_model_module_version": "1.0.0",
            "_model_name": "OutputModel",
            "_view_count": null,
            "_view_module": "@jupyter-widgets/output",
            "_view_module_version": "1.0.0",
            "_view_name": "OutputView",
            "layout": "IPY_MODEL_e1208ef8642e4833b8f4786eaf87be38",
            "msg_id": "",
            "outputs": [
              {
                "output_type": "display_data",
                "data": {
                  "text/plain": "VBox(children=(Text(value='link', description='Link', disabled=True), Text(value='Nour', description='First na…",
                  "application/vnd.jupyter.widget-view+json": {
                    "version_major": 2,
                    "version_minor": 0,
                    "model_id": "ec7910d1a5cc402e8530fa3b7a2fddf2"
                  }
                },
                "metadata": {}
              },
              {
                "output_type": "stream",
                "name": "stdout",
                "text": [
                  "✅ Added: Nour Raiaheen\n"
                ]
              }
            ]
          }
        },
        "e1208ef8642e4833b8f4786eaf87be38": {
          "model_module": "@jupyter-widgets/base",
          "model_name": "LayoutModel",
          "model_module_version": "1.2.0",
          "state": {
            "_model_module": "@jupyter-widgets/base",
            "_model_module_version": "1.2.0",
            "_model_name": "LayoutModel",
            "_view_count": null,
            "_view_module": "@jupyter-widgets/base",
            "_view_module_version": "1.2.0",
            "_view_name": "LayoutView",
            "align_content": null,
            "align_items": null,
            "align_self": null,
            "border": null,
            "bottom": null,
            "display": null,
            "flex": null,
            "flex_flow": null,
            "grid_area": null,
            "grid_auto_columns": null,
            "grid_auto_flow": null,
            "grid_auto_rows": null,
            "grid_column": null,
            "grid_gap": null,
            "grid_row": null,
            "grid_template_areas": null,
            "grid_template_columns": null,
            "grid_template_rows": null,
            "height": null,
            "justify_content": null,
            "justify_items": null,
            "left": null,
            "margin": null,
            "max_height": null,
            "max_width": null,
            "min_height": null,
            "min_width": null,
            "object_fit": null,
            "object_position": null,
            "order": null,
            "overflow": null,
            "overflow_x": null,
            "overflow_y": null,
            "padding": null,
            "right": null,
            "top": null,
            "visibility": null,
            "width": null
          }
        },
        "ec7910d1a5cc402e8530fa3b7a2fddf2": {
          "model_module": "@jupyter-widgets/controls",
          "model_name": "VBoxModel",
          "model_module_version": "1.5.0",
          "state": {
            "_dom_classes": [],
            "_model_module": "@jupyter-widgets/controls",
            "_model_module_version": "1.5.0",
            "_model_name": "VBoxModel",
            "_view_count": null,
            "_view_module": "@jupyter-widgets/controls",
            "_view_module_version": "1.5.0",
            "_view_name": "VBoxView",
            "box_style": "",
            "children": [
              "IPY_MODEL_fa64e78fb127499fa4c537f50820abc3",
              "IPY_MODEL_2f9b91fb8bc542dc8998439d617a2ad8",
              "IPY_MODEL_21d3fe4dd3a74538b487b066d122b81f",
              "IPY_MODEL_ebe23b621df146d2b051d72031c39db0",
              "IPY_MODEL_ce90a92858b649d79f80c55b716da692",
              "IPY_MODEL_7bd7ae45eb8e45fc9005465c54b3c20a",
              "IPY_MODEL_302760e0b1914bd7879bab9f4902663a"
            ],
            "layout": "IPY_MODEL_8250655ac405494fad926b01d53cdfc8"
          }
        },
        "fa64e78fb127499fa4c537f50820abc3": {
          "model_module": "@jupyter-widgets/controls",
          "model_name": "TextModel",
          "model_module_version": "1.5.0",
          "state": {
            "_dom_classes": [],
            "_model_module": "@jupyter-widgets/controls",
            "_model_module_version": "1.5.0",
            "_model_name": "TextModel",
            "_view_count": null,
            "_view_module": "@jupyter-widgets/controls",
            "_view_module_version": "1.5.0",
            "_view_name": "TextView",
            "continuous_update": true,
            "description": "Link",
            "description_tooltip": null,
            "disabled": true,
            "layout": "IPY_MODEL_f4e9ac765a29425cbfe23e36abc64b43",
            "placeholder": "​",
            "style": "IPY_MODEL_f89bb5259c9b4b34a1e0614a1ecd8e7a",
            "value": "link"
          }
        },
        "2f9b91fb8bc542dc8998439d617a2ad8": {
          "model_module": "@jupyter-widgets/controls",
          "model_name": "TextModel",
          "model_module_version": "1.5.0",
          "state": {
            "_dom_classes": [],
            "_model_module": "@jupyter-widgets/controls",
            "_model_module_version": "1.5.0",
            "_model_name": "TextModel",
            "_view_count": null,
            "_view_module": "@jupyter-widgets/controls",
            "_view_module_version": "1.5.0",
            "_view_name": "TextView",
            "continuous_update": true,
            "description": "First name",
            "description_tooltip": null,
            "disabled": true,
            "layout": "IPY_MODEL_3ea2899bc95e4910ba0e8b53614df02e",
            "placeholder": "​",
            "style": "IPY_MODEL_57633d5a20434d0f81b3a60c86d2e7bc",
            "value": "Nour"
          }
        },
        "21d3fe4dd3a74538b487b066d122b81f": {
          "model_module": "@jupyter-widgets/controls",
          "model_name": "TextModel",
          "model_module_version": "1.5.0",
          "state": {
            "_dom_classes": [],
            "_model_module": "@jupyter-widgets/controls",
            "_model_module_version": "1.5.0",
            "_model_name": "TextModel",
            "_view_count": null,
            "_view_module": "@jupyter-widgets/controls",
            "_view_module_version": "1.5.0",
            "_view_name": "TextView",
            "continuous_update": true,
            "description": "Last name",
            "description_tooltip": null,
            "disabled": true,
            "layout": "IPY_MODEL_73be501241624b0eb3fb14a9fb5b5111",
            "placeholder": "​",
            "style": "IPY_MODEL_366fcfbccb76482cb19e497fcf757778",
            "value": "Raiaheen"
          }
        },
        "ebe23b621df146d2b051d72031c39db0": {
          "model_module": "@jupyter-widgets/controls",
          "model_name": "TextModel",
          "model_module_version": "1.5.0",
          "state": {
            "_dom_classes": [],
            "_model_module": "@jupyter-widgets/controls",
            "_model_module_version": "1.5.0",
            "_model_name": "TextModel",
            "_view_count": null,
            "_view_module": "@jupyter-widgets/controls",
            "_view_module_version": "1.5.0",
            "_view_name": "TextView",
            "continuous_update": true,
            "description": "Email",
            "description_tooltip": null,
            "disabled": true,
            "layout": "IPY_MODEL_b1ae0a91559a41fca9eed48ba6d9de43",
            "placeholder": "​",
            "style": "IPY_MODEL_2152de897c584ab3bac341d3114c4814",
            "value": "nour.raiaheen@braude.ac.il"
          }
        },
        "ce90a92858b649d79f80c55b716da692": {
          "model_module": "@jupyter-widgets/controls",
          "model_name": "TextareaModel",
          "model_module_version": "1.5.0",
          "state": {
            "_dom_classes": [],
            "_model_module": "@jupyter-widgets/controls",
            "_model_module_version": "1.5.0",
            "_model_name": "TextareaModel",
            "_view_count": null,
            "_view_module": "@jupyter-widgets/controls",
            "_view_module_version": "1.5.0",
            "_view_name": "TextareaView",
            "continuous_update": true,
            "description": "Courses",
            "description_tooltip": null,
            "disabled": true,
            "layout": "IPY_MODEL_dcf1543f67724564b3322c6b07beb71c",
            "placeholder": "​",
            "rows": null,
            "style": "IPY_MODEL_d1373c166c9c4809a7cbf32ef46e4c62",
            "value": "A,E,F,D"
          }
        },
        "7bd7ae45eb8e45fc9005465c54b3c20a": {
          "model_module": "@jupyter-widgets/controls",
          "model_name": "TextareaModel",
          "model_module_version": "1.5.0",
          "state": {
            "_dom_classes": [],
            "_model_module": "@jupyter-widgets/controls",
            "_model_module_version": "1.5.0",
            "_model_name": "TextareaModel",
            "_view_count": null,
            "_view_module": "@jupyter-widgets/controls",
            "_view_module_version": "1.5.0",
            "_view_name": "TextareaView",
            "continuous_update": true,
            "description": "TV Show",
            "description_tooltip": null,
            "disabled": false,
            "layout": "IPY_MODEL_acd615f5d9a4427ca3d09a07c0b57c77",
            "placeholder": "​",
            "rows": null,
            "style": "IPY_MODEL_72f5937368f54603906dfbeb35c0a7a3",
            "value": "wdefrgthy"
          }
        },
        "302760e0b1914bd7879bab9f4902663a": {
          "model_module": "@jupyter-widgets/controls",
          "model_name": "ButtonModel",
          "model_module_version": "1.5.0",
          "state": {
            "_dom_classes": [],
            "_model_module": "@jupyter-widgets/controls",
            "_model_module_version": "1.5.0",
            "_model_name": "ButtonModel",
            "_view_count": null,
            "_view_module": "@jupyter-widgets/controls",
            "_view_module_version": "1.5.0",
            "_view_name": "ButtonView",
            "button_style": "success",
            "description": "Update",
            "disabled": false,
            "icon": "",
            "layout": "IPY_MODEL_da9a633fcc0644c3b28d7659c8beddd2",
            "style": "IPY_MODEL_1253fa914c71468bae14ab3847e55ada",
            "tooltip": ""
          }
        },
        "8250655ac405494fad926b01d53cdfc8": {
          "model_module": "@jupyter-widgets/base",
          "model_name": "LayoutModel",
          "model_module_version": "1.2.0",
          "state": {
            "_model_module": "@jupyter-widgets/base",
            "_model_module_version": "1.2.0",
            "_model_name": "LayoutModel",
            "_view_count": null,
            "_view_module": "@jupyter-widgets/base",
            "_view_module_version": "1.2.0",
            "_view_name": "LayoutView",
            "align_content": null,
            "align_items": null,
            "align_self": null,
            "border": null,
            "bottom": null,
            "display": "none",
            "flex": null,
            "flex_flow": null,
            "grid_area": null,
            "grid_auto_columns": null,
            "grid_auto_flow": null,
            "grid_auto_rows": null,
            "grid_column": null,
            "grid_gap": null,
            "grid_row": null,
            "grid_template_areas": null,
            "grid_template_columns": null,
            "grid_template_rows": null,
            "height": null,
            "justify_content": null,
            "justify_items": null,
            "left": null,
            "margin": null,
            "max_height": null,
            "max_width": null,
            "min_height": null,
            "min_width": null,
            "object_fit": null,
            "object_position": null,
            "order": null,
            "overflow": null,
            "overflow_x": null,
            "overflow_y": null,
            "padding": null,
            "right": null,
            "top": null,
            "visibility": null,
            "width": null
          }
        },
        "f4e9ac765a29425cbfe23e36abc64b43": {
          "model_module": "@jupyter-widgets/base",
          "model_name": "LayoutModel",
          "model_module_version": "1.2.0",
          "state": {
            "_model_module": "@jupyter-widgets/base",
            "_model_module_version": "1.2.0",
            "_model_name": "LayoutModel",
            "_view_count": null,
            "_view_module": "@jupyter-widgets/base",
            "_view_module_version": "1.2.0",
            "_view_name": "LayoutView",
            "align_content": null,
            "align_items": null,
            "align_self": null,
            "border": null,
            "bottom": null,
            "display": null,
            "flex": null,
            "flex_flow": null,
            "grid_area": null,
            "grid_auto_columns": null,
            "grid_auto_flow": null,
            "grid_auto_rows": null,
            "grid_column": null,
            "grid_gap": null,
            "grid_row": null,
            "grid_template_areas": null,
            "grid_template_columns": null,
            "grid_template_rows": null,
            "height": null,
            "justify_content": null,
            "justify_items": null,
            "left": null,
            "margin": null,
            "max_height": null,
            "max_width": null,
            "min_height": null,
            "min_width": null,
            "object_fit": null,
            "object_position": null,
            "order": null,
            "overflow": null,
            "overflow_x": null,
            "overflow_y": null,
            "padding": null,
            "right": null,
            "top": null,
            "visibility": null,
            "width": null
          }
        },
        "f89bb5259c9b4b34a1e0614a1ecd8e7a": {
          "model_module": "@jupyter-widgets/controls",
          "model_name": "DescriptionStyleModel",
          "model_module_version": "1.5.0",
          "state": {
            "_model_module": "@jupyter-widgets/controls",
            "_model_module_version": "1.5.0",
            "_model_name": "DescriptionStyleModel",
            "_view_count": null,
            "_view_module": "@jupyter-widgets/base",
            "_view_module_version": "1.2.0",
            "_view_name": "StyleView",
            "description_width": ""
          }
        },
        "3ea2899bc95e4910ba0e8b53614df02e": {
          "model_module": "@jupyter-widgets/base",
          "model_name": "LayoutModel",
          "model_module_version": "1.2.0",
          "state": {
            "_model_module": "@jupyter-widgets/base",
            "_model_module_version": "1.2.0",
            "_model_name": "LayoutModel",
            "_view_count": null,
            "_view_module": "@jupyter-widgets/base",
            "_view_module_version": "1.2.0",
            "_view_name": "LayoutView",
            "align_content": null,
            "align_items": null,
            "align_self": null,
            "border": null,
            "bottom": null,
            "display": null,
            "flex": null,
            "flex_flow": null,
            "grid_area": null,
            "grid_auto_columns": null,
            "grid_auto_flow": null,
            "grid_auto_rows": null,
            "grid_column": null,
            "grid_gap": null,
            "grid_row": null,
            "grid_template_areas": null,
            "grid_template_columns": null,
            "grid_template_rows": null,
            "height": null,
            "justify_content": null,
            "justify_items": null,
            "left": null,
            "margin": null,
            "max_height": null,
            "max_width": null,
            "min_height": null,
            "min_width": null,
            "object_fit": null,
            "object_position": null,
            "order": null,
            "overflow": null,
            "overflow_x": null,
            "overflow_y": null,
            "padding": null,
            "right": null,
            "top": null,
            "visibility": null,
            "width": null
          }
        },
        "57633d5a20434d0f81b3a60c86d2e7bc": {
          "model_module": "@jupyter-widgets/controls",
          "model_name": "DescriptionStyleModel",
          "model_module_version": "1.5.0",
          "state": {
            "_model_module": "@jupyter-widgets/controls",
            "_model_module_version": "1.5.0",
            "_model_name": "DescriptionStyleModel",
            "_view_count": null,
            "_view_module": "@jupyter-widgets/base",
            "_view_module_version": "1.2.0",
            "_view_name": "StyleView",
            "description_width": ""
          }
        },
        "73be501241624b0eb3fb14a9fb5b5111": {
          "model_module": "@jupyter-widgets/base",
          "model_name": "LayoutModel",
          "model_module_version": "1.2.0",
          "state": {
            "_model_module": "@jupyter-widgets/base",
            "_model_module_version": "1.2.0",
            "_model_name": "LayoutModel",
            "_view_count": null,
            "_view_module": "@jupyter-widgets/base",
            "_view_module_version": "1.2.0",
            "_view_name": "LayoutView",
            "align_content": null,
            "align_items": null,
            "align_self": null,
            "border": null,
            "bottom": null,
            "display": null,
            "flex": null,
            "flex_flow": null,
            "grid_area": null,
            "grid_auto_columns": null,
            "grid_auto_flow": null,
            "grid_auto_rows": null,
            "grid_column": null,
            "grid_gap": null,
            "grid_row": null,
            "grid_template_areas": null,
            "grid_template_columns": null,
            "grid_template_rows": null,
            "height": null,
            "justify_content": null,
            "justify_items": null,
            "left": null,
            "margin": null,
            "max_height": null,
            "max_width": null,
            "min_height": null,
            "min_width": null,
            "object_fit": null,
            "object_position": null,
            "order": null,
            "overflow": null,
            "overflow_x": null,
            "overflow_y": null,
            "padding": null,
            "right": null,
            "top": null,
            "visibility": null,
            "width": null
          }
        },
        "366fcfbccb76482cb19e497fcf757778": {
          "model_module": "@jupyter-widgets/controls",
          "model_name": "DescriptionStyleModel",
          "model_module_version": "1.5.0",
          "state": {
            "_model_module": "@jupyter-widgets/controls",
            "_model_module_version": "1.5.0",
            "_model_name": "DescriptionStyleModel",
            "_view_count": null,
            "_view_module": "@jupyter-widgets/base",
            "_view_module_version": "1.2.0",
            "_view_name": "StyleView",
            "description_width": ""
          }
        },
        "b1ae0a91559a41fca9eed48ba6d9de43": {
          "model_module": "@jupyter-widgets/base",
          "model_name": "LayoutModel",
          "model_module_version": "1.2.0",
          "state": {
            "_model_module": "@jupyter-widgets/base",
            "_model_module_version": "1.2.0",
            "_model_name": "LayoutModel",
            "_view_count": null,
            "_view_module": "@jupyter-widgets/base",
            "_view_module_version": "1.2.0",
            "_view_name": "LayoutView",
            "align_content": null,
            "align_items": null,
            "align_self": null,
            "border": null,
            "bottom": null,
            "display": null,
            "flex": null,
            "flex_flow": null,
            "grid_area": null,
            "grid_auto_columns": null,
            "grid_auto_flow": null,
            "grid_auto_rows": null,
            "grid_column": null,
            "grid_gap": null,
            "grid_row": null,
            "grid_template_areas": null,
            "grid_template_columns": null,
            "grid_template_rows": null,
            "height": null,
            "justify_content": null,
            "justify_items": null,
            "left": null,
            "margin": null,
            "max_height": null,
            "max_width": null,
            "min_height": null,
            "min_width": null,
            "object_fit": null,
            "object_position": null,
            "order": null,
            "overflow": null,
            "overflow_x": null,
            "overflow_y": null,
            "padding": null,
            "right": null,
            "top": null,
            "visibility": null,
            "width": null
          }
        },
        "2152de897c584ab3bac341d3114c4814": {
          "model_module": "@jupyter-widgets/controls",
          "model_name": "DescriptionStyleModel",
          "model_module_version": "1.5.0",
          "state": {
            "_model_module": "@jupyter-widgets/controls",
            "_model_module_version": "1.5.0",
            "_model_name": "DescriptionStyleModel",
            "_view_count": null,
            "_view_module": "@jupyter-widgets/base",
            "_view_module_version": "1.2.0",
            "_view_name": "StyleView",
            "description_width": ""
          }
        },
        "dcf1543f67724564b3322c6b07beb71c": {
          "model_module": "@jupyter-widgets/base",
          "model_name": "LayoutModel",
          "model_module_version": "1.2.0",
          "state": {
            "_model_module": "@jupyter-widgets/base",
            "_model_module_version": "1.2.0",
            "_model_name": "LayoutModel",
            "_view_count": null,
            "_view_module": "@jupyter-widgets/base",
            "_view_module_version": "1.2.0",
            "_view_name": "LayoutView",
            "align_content": null,
            "align_items": null,
            "align_self": null,
            "border": null,
            "bottom": null,
            "display": null,
            "flex": null,
            "flex_flow": null,
            "grid_area": null,
            "grid_auto_columns": null,
            "grid_auto_flow": null,
            "grid_auto_rows": null,
            "grid_column": null,
            "grid_gap": null,
            "grid_row": null,
            "grid_template_areas": null,
            "grid_template_columns": null,
            "grid_template_rows": null,
            "height": null,
            "justify_content": null,
            "justify_items": null,
            "left": null,
            "margin": null,
            "max_height": null,
            "max_width": null,
            "min_height": null,
            "min_width": null,
            "object_fit": null,
            "object_position": null,
            "order": null,
            "overflow": null,
            "overflow_x": null,
            "overflow_y": null,
            "padding": null,
            "right": null,
            "top": null,
            "visibility": null,
            "width": null
          }
        },
        "d1373c166c9c4809a7cbf32ef46e4c62": {
          "model_module": "@jupyter-widgets/controls",
          "model_name": "DescriptionStyleModel",
          "model_module_version": "1.5.0",
          "state": {
            "_model_module": "@jupyter-widgets/controls",
            "_model_module_version": "1.5.0",
            "_model_name": "DescriptionStyleModel",
            "_view_count": null,
            "_view_module": "@jupyter-widgets/base",
            "_view_module_version": "1.2.0",
            "_view_name": "StyleView",
            "description_width": ""
          }
        },
        "acd615f5d9a4427ca3d09a07c0b57c77": {
          "model_module": "@jupyter-widgets/base",
          "model_name": "LayoutModel",
          "model_module_version": "1.2.0",
          "state": {
            "_model_module": "@jupyter-widgets/base",
            "_model_module_version": "1.2.0",
            "_model_name": "LayoutModel",
            "_view_count": null,
            "_view_module": "@jupyter-widgets/base",
            "_view_module_version": "1.2.0",
            "_view_name": "LayoutView",
            "align_content": null,
            "align_items": null,
            "align_self": null,
            "border": null,
            "bottom": null,
            "display": null,
            "flex": null,
            "flex_flow": null,
            "grid_area": null,
            "grid_auto_columns": null,
            "grid_auto_flow": null,
            "grid_auto_rows": null,
            "grid_column": null,
            "grid_gap": null,
            "grid_row": null,
            "grid_template_areas": null,
            "grid_template_columns": null,
            "grid_template_rows": null,
            "height": null,
            "justify_content": null,
            "justify_items": null,
            "left": null,
            "margin": null,
            "max_height": null,
            "max_width": null,
            "min_height": null,
            "min_width": null,
            "object_fit": null,
            "object_position": null,
            "order": null,
            "overflow": null,
            "overflow_x": null,
            "overflow_y": null,
            "padding": null,
            "right": null,
            "top": null,
            "visibility": null,
            "width": null
          }
        },
        "72f5937368f54603906dfbeb35c0a7a3": {
          "model_module": "@jupyter-widgets/controls",
          "model_name": "DescriptionStyleModel",
          "model_module_version": "1.5.0",
          "state": {
            "_model_module": "@jupyter-widgets/controls",
            "_model_module_version": "1.5.0",
            "_model_name": "DescriptionStyleModel",
            "_view_count": null,
            "_view_module": "@jupyter-widgets/base",
            "_view_module_version": "1.2.0",
            "_view_name": "StyleView",
            "description_width": ""
          }
        },
        "da9a633fcc0644c3b28d7659c8beddd2": {
          "model_module": "@jupyter-widgets/base",
          "model_name": "LayoutModel",
          "model_module_version": "1.2.0",
          "state": {
            "_model_module": "@jupyter-widgets/base",
            "_model_module_version": "1.2.0",
            "_model_name": "LayoutModel",
            "_view_count": null,
            "_view_module": "@jupyter-widgets/base",
            "_view_module_version": "1.2.0",
            "_view_name": "LayoutView",
            "align_content": null,
            "align_items": null,
            "align_self": null,
            "border": null,
            "bottom": null,
            "display": null,
            "flex": null,
            "flex_flow": null,
            "grid_area": null,
            "grid_auto_columns": null,
            "grid_auto_flow": null,
            "grid_auto_rows": null,
            "grid_column": null,
            "grid_gap": null,
            "grid_row": null,
            "grid_template_areas": null,
            "grid_template_columns": null,
            "grid_template_rows": null,
            "height": null,
            "justify_content": null,
            "justify_items": null,
            "left": null,
            "margin": null,
            "max_height": null,
            "max_width": null,
            "min_height": null,
            "min_width": null,
            "object_fit": null,
            "object_position": null,
            "order": null,
            "overflow": null,
            "overflow_x": null,
            "overflow_y": null,
            "padding": null,
            "right": null,
            "top": null,
            "visibility": null,
            "width": null
          }
        },
        "1253fa914c71468bae14ab3847e55ada": {
          "model_module": "@jupyter-widgets/controls",
          "model_name": "ButtonStyleModel",
          "model_module_version": "1.5.0",
          "state": {
            "_model_module": "@jupyter-widgets/controls",
            "_model_module_version": "1.5.0",
            "_model_name": "ButtonStyleModel",
            "_view_count": null,
            "_view_module": "@jupyter-widgets/base",
            "_view_module_version": "1.2.0",
            "_view_name": "StyleView",
            "button_color": null,
            "font_weight": ""
          }
        }
      }
    }
  },
  "cells": [
    {
      "cell_type": "markdown",
      "metadata": {
        "id": "view-in-github",
        "colab_type": "text"
      },
      "source": [
        "<a href=\"https://colab.research.google.com/github/Alaa-Barazi/test/blob/main/Cloud_Ex1.ipynb\" target=\"_parent\"><img src=\"https://colab.research.google.com/assets/colab-badge.svg\" alt=\"Open In Colab\"/></a>"
      ]
    },
    {
      "cell_type": "code",
      "source": [
        "# @title Form\n",
        "name = 'asasas' # @param {\"type\":\"string\"}\n",
        "sleeptime = 2 # @param {\"type\":\"integer\"}\n",
        "\n",
        "\n",
        "\n"
      ],
      "metadata": {
        "id": "w-vPFGwNC1pw"
      },
      "execution_count": 31,
      "outputs": []
    },
    {
      "cell_type": "code",
      "source": [
        "import time\n",
        "print(time.ctime())\n",
        "time.sleep(sleeptime)\n",
        "print(time.ctime())"
      ],
      "metadata": {
        "colab": {
          "base_uri": "https://localhost:8080/"
        },
        "id": "Gl8-vXC8DqR1",
        "outputId": "eb93ab9e-ee6e-4298-8b73-f77e9cbe9ba5"
      },
      "execution_count": 32,
      "outputs": [
        {
          "output_type": "stream",
          "name": "stdout",
          "text": [
            "Tue Oct 28 09:08:33 2025\n",
            "Tue Oct 28 09:08:35 2025\n"
          ]
        }
      ]
    },
    {
      "cell_type": "code",
      "source": [
        "#@title Default title text\n",
        "%%html\n",
        "<style>\n",
        "body {\n",
        "  background-color: #f2bcca;\n",
        "}\n",
        "</style>\n",
        "color = 'green' #@param [\"red\", \"green\", \"blue\"] print(color)\n",
        "<svg xmlns=\"https://www.w3.org/2000/svg\" viewBox=\"0 0 600 400\" width=\"400\" height=\"400\">\n",
        "   <rect x=\"10\" y=\"00\" width=\"300\" height=\"100\" rx=\"0\" style=\"fill:orange; stroke:black; fill-opacity:1.0\" />\n",
        "   <rect x=\"10\" y=\"100\" width=\"300\" height=\"100\" rx=\"0\" style=\"fill:white; stroke:black; fill-opacity:1.0;\" />\n",
        "   <rect x=\"10\" y=\"200\" width=\"300\" height=\"100\" rx=\"0\" style=\"fill:green; stroke:black; fill-opacity:1.0;\" />\n",
        "</svg>\n"
      ],
      "metadata": {
        "colab": {
          "base_uri": "https://localhost:8080/",
          "height": 421
        },
        "id": "cREk2Ez3EVK8",
        "outputId": "60cf8d51-fc66-481d-dabb-47c013e9961c"
      },
      "execution_count": 42,
      "outputs": [
        {
          "output_type": "display_data",
          "data": {
            "text/plain": [
              "<IPython.core.display.HTML object>"
            ],
            "text/html": [
              "<style>\n",
              "body {\n",
              "  background-color: #f2bcca;\n",
              "}\n",
              "</style>\n",
              "color = 'green' #@param [\"red\", \"green\", \"blue\"] print(color) \n",
              "<svg xmlns=\"https://www.w3.org/2000/svg\" viewBox=\"0 0 600 400\" width=\"400\" height=\"400\">\n",
              "   <rect x=\"10\" y=\"00\" width=\"300\" height=\"100\" rx=\"0\" style=\"fill:orange; stroke:black; fill-opacity:1.0\" />\n",
              "   <rect x=\"10\" y=\"100\" width=\"300\" height=\"100\" rx=\"0\" style=\"fill:white; stroke:black; fill-opacity:1.0;\" />\n",
              "   <rect x=\"10\" y=\"200\" width=\"300\" height=\"100\" rx=\"0\" style=\"fill:green; stroke:black; fill-opacity:1.0;\" />\n",
              "</svg>\n"
            ]
          },
          "metadata": {}
        }
      ]
    },
    {
      "cell_type": "code",
      "source": [
        "#@title Date fields\n",
        "date_input = '2030-12-18' #@param {type:\"date\"}\n",
        "print(date_input)\n"
      ],
      "metadata": {
        "colab": {
          "base_uri": "https://localhost:8080/"
        },
        "id": "KkBCckoZFPE_",
        "outputId": "715ae5a2-2c47-4c92-857a-d1acab8bd728"
      },
      "execution_count": 35,
      "outputs": [
        {
          "output_type": "stream",
          "name": "stdout",
          "text": [
            "2019-06-18\n"
          ]
        }
      ]
    },
    {
      "cell_type": "code",
      "source": [
        "!cd /content/drive/MyDrive/Colab\\ Notebooks\n",
        "\n",
        "\n"
      ],
      "metadata": {
        "id": "4QXK5ud2Gr8d"
      },
      "execution_count": 71,
      "outputs": []
    },
    {
      "cell_type": "code",
      "source": [
        "!cd /content/drive/MyDrive/Colab\\ Notebooks\n",
        "with open('/content/drive/MyDrive/Colab Notebooks/1.txt', 'r') as file:\n",
        "    lines = file.readlines()\n",
        "    print(lines)\n",
        "file.close()"
      ],
      "metadata": {
        "colab": {
          "base_uri": "https://localhost:8080/"
        },
        "id": "ldQi8MLhJ5HX",
        "outputId": "20ac980d-7fa1-4c59-8239-cca2c6dc1924"
      },
      "execution_count": 88,
      "outputs": [
        {
          "output_type": "stream",
          "name": "stdout",
          "text": [
            "['One\\n', 'Two\\n', 'Three']\n"
          ]
        }
      ]
    },
    {
      "cell_type": "code",
      "source": [
        "!cd /content/drive/MyDrive/Colab\\ Notebooks\n",
        "with open('/content/drive/MyDrive/Colab Notebooks/1.txt', 'a') as file:\n",
        "  file.write(\"Test Text\")"
      ],
      "metadata": {
        "id": "dljQ29KmLGHP"
      },
      "execution_count": 90,
      "outputs": []
    },
    {
      "cell_type": "code",
      "source": [
        "import ipywidgets as widgets\n",
        "from IPython.display import display\n",
        "button = widgets.Button(description=\"Click Me!\")\n",
        "output = widgets.Output()\n",
        "\n",
        "def on_button_clicked(b):\n",
        "  # Display the message within the output widget.\n",
        "  with output:\n",
        "    with open('/content/drive/MyDrive/Colab Notebooks/1.txt', 'r') as file:\n",
        "      contents = file.read()\n",
        "      print(contents)\n",
        "\n",
        "button.on_click(on_button_clicked)\n",
        "display(button, output)\n",
        "\n"
      ],
      "metadata": {
        "colab": {
          "base_uri": "https://localhost:8080/",
          "height": 153,
          "referenced_widgets": [
            "ac391bc8097140e893cb6dc22ed56546",
            "a73e4668b0af4aa195a00ca052d05af5",
            "cf1956825723446ca991eac3bb140abf",
            "1c805ad873e34abc98b6aa70ec6d8cfe",
            "db2ff6985a1e4187a04e38c593cad231"
          ]
        },
        "id": "g5rq-uu-Lewh",
        "outputId": "61d3e61c-45ae-488e-f492-8b4ba33531bb"
      },
      "execution_count": 92,
      "outputs": [
        {
          "output_type": "display_data",
          "data": {
            "text/plain": [
              "Button(description='Click Me!', style=ButtonStyle())"
            ],
            "application/vnd.jupyter.widget-view+json": {
              "version_major": 2,
              "version_minor": 0,
              "model_id": "ac391bc8097140e893cb6dc22ed56546"
            }
          },
          "metadata": {}
        },
        {
          "output_type": "display_data",
          "data": {
            "text/plain": [
              "Output()"
            ],
            "application/vnd.jupyter.widget-view+json": {
              "version_major": 2,
              "version_minor": 0,
              "model_id": "1c805ad873e34abc98b6aa70ec6d8cfe"
            }
          },
          "metadata": {}
        }
      ]
    },
    {
      "cell_type": "code",
      "source": [
        "import IPython\n",
        "from IPython.core.display import display_html\n",
        "from typing import Text\n",
        "from ipywidgets import widgets\n",
        "from IPython.display import HTML\n",
        "from google.colab.output import _publish as publish\n",
        "publish.css(\"b {color: blue} body {background-color: #f2bcca}\")\n",
        "IPython.display.display_html(\"<b>foo bar</b>\", raw=True)\n",
        "w = widgets.Dropdown(\n",
        "    options=['Addition', 'Multiplication', 'Subtraction', 'Division'],\n",
        "    value='Addition',\n",
        "    description='Task:',\n",
        ")\n",
        "txt1=widgets.Text()\n",
        "txt1.value=\"1\"\n",
        "display(txt1)\n",
        "\n",
        "\n",
        "\n",
        "\n",
        "def on_change(change):\n",
        "    if change['type'] == 'change' and change['name'] == 'value':\n",
        "        print(\"changed to %s\" % change['new'])\n",
        "    txt1.value=w.value\n",
        "\n",
        "\n",
        "w.observe(on_change)\n",
        "\n",
        "\n",
        "display(w)\n",
        "\n"
      ],
      "metadata": {
        "colab": {
          "base_uri": "https://localhost:8080/",
          "height": 148,
          "referenced_widgets": [
            "6e018baab73a4cdbbaffee3050ff8220",
            "0770744cd1ff466d98c00bb12e9b28cf",
            "4764c21e98ff4cf68b967aadac8950e0",
            "eb3f82ddd94a40169aacfe03053a6664",
            "6633e27e21024b1fbad6cae670fcc632",
            "685d7f8a5bb4489e8267c3384cc66660"
          ]
        },
        "id": "QuNwyvHELq-w",
        "outputId": "08ceb220-9f09-4bc7-900c-542db497249e"
      },
      "execution_count": 94,
      "outputs": [
        {
          "output_type": "display_data",
          "data": {
            "text/plain": [
              "<IPython.core.display.HTML object>"
            ],
            "text/html": [
              "<style>b {color: blue} body {background-color: #f2bcca}</style>"
            ]
          },
          "metadata": {}
        },
        {
          "output_type": "display_data",
          "data": {
            "text/html": [
              "<b>foo bar</b>"
            ]
          },
          "metadata": {}
        },
        {
          "output_type": "display_data",
          "data": {
            "text/plain": [
              "Text(value='1')"
            ],
            "application/vnd.jupyter.widget-view+json": {
              "version_major": 2,
              "version_minor": 0,
              "model_id": "6e018baab73a4cdbbaffee3050ff8220"
            }
          },
          "metadata": {}
        },
        {
          "output_type": "display_data",
          "data": {
            "text/plain": [
              "Dropdown(description='Task:', options=('Addition', 'Multiplication', 'Subtraction', 'Division'), value='Additi…"
            ],
            "application/vnd.jupyter.widget-view+json": {
              "version_major": 2,
              "version_minor": 0,
              "model_id": "eb3f82ddd94a40169aacfe03053a6664"
            }
          },
          "metadata": {}
        },
        {
          "output_type": "stream",
          "name": "stdout",
          "text": [
            "changed to Multiplication\n",
            "changed to Division\n",
            "changed to Addition\n"
          ]
        }
      ]
    },
    {
      "cell_type": "code",
      "source": [
        "from IPython.display import display\n",
        "from ipywidgets import widgets, Output, VBox\n",
        "!cd /content/drive/MyDrive/Colab\\ Notebooks\n",
        "file_path = '/content/drive/MyDrive/Colab Notebooks/students.txt'\n",
        "\n",
        "students = {}\n",
        "with open(file_path, 'r') as f:\n",
        "    for line in f:\n",
        "        parts = line.strip().split()\n",
        "        if len(parts) >= 5:\n",
        "            first_name = parts[0]\n",
        "            last_name = parts[1]\n",
        "            email = parts[2]\n",
        "            courses = parts[3]\n",
        "            link = parts[4]\n",
        "            full_name = f\"{first_name} {last_name}\"\n",
        "            students[full_name] = {\n",
        "                'email': email,\n",
        "                'courses': courses,\n",
        "                'link': link\n",
        "            }\n",
        "\n",
        "# --- Dropdown for student selection ---\n",
        "w = widgets.Dropdown(\n",
        "    options=[''] + list(students.keys()),\n",
        "    value='',\n",
        "    description='Student:',\n",
        ")\n",
        "\n",
        "\n",
        "link = widgets.Text(description=\"Link\")\n",
        "fName = widgets.Text(description=\"First name\")\n",
        "lName = widgets.Text(description=\"Last name\")\n",
        "email = widgets.Text(description=\"Email\")\n",
        "courses = widgets.Textarea(description=\"Courses\")\n",
        "tvShow = widgets.Textarea(description=\"TV Show\")\n",
        "\n",
        "updateButton = widgets.Button(description=\"Update\",button_style='success')\n",
        "out = Output()\n",
        "\n",
        "fName.disabled = True       # cannot edit\n",
        "lName.disabled = True       # cannot edit\n",
        "email.disabled = True       # cannot edit\n",
        "courses.disabled = True    # uncomment to make read-only too\n",
        "link.disabled = True\n",
        "\n",
        "form_box = widgets.VBox([link, fName, lName,email, courses, tvShow,updateButton])\n",
        "form_box.layout.display = 'none'\n",
        "\n",
        "\n",
        "\n",
        "def on_change(change):\n",
        "    if change['type'] == 'change' and change['name'] == 'value':\n",
        "        selected = change['new']\n",
        "        with out:\n",
        "            out.clear_output()\n",
        "            if selected:\n",
        "                # Fill the form with data\n",
        "                data = students[selected]\n",
        "                first, last = selected.split(' ', 1)\n",
        "                fName.value = first\n",
        "                lName.value = last\n",
        "                email.value = data['email']\n",
        "                courseStr = data[\"courses\"]\n",
        "\n",
        "                courses.value = courseStr[1:-1]\n",
        "                link.value = data['link']\n",
        "                form_box.layout.display = 'block'\n",
        "                display(form_box)\n",
        "\n",
        "            else:\n",
        "                form_box.layout.display = 'none'\n",
        "                #display(form_box)\n",
        "def on_button_clicked(b):\n",
        "  with out:\n",
        "\n",
        "        # Read data from the fields\n",
        "        first = fName.value.strip()\n",
        "        last = lName.value.strip()\n",
        "        mail = email.value.strip()\n",
        "        crs = '['+courses.value.strip()+']'\n",
        "        ln = link.value.strip()\n",
        "        show = tvShow.value.strip()\n",
        "\n",
        "        # Create the new row (same style as your file)\n",
        "        new_line = f\"{first} {last} {mail} {crs} {ln} {show}\\n\"\n",
        "\n",
        "        # Append to file\n",
        "        with open(file_path, 'a') as file:\n",
        "            file.write(new_line)\n",
        "\n",
        "        print(f\"✅ Added: {first} {last}\")\n",
        "        form_box.layout.display = 'none'\n",
        "\n",
        "\n",
        "# --- Attach observer ---\n",
        "w.observe(on_change, names='value')\n",
        "updateButton.on_click(on_button_clicked)\n",
        "# --- Display dropdown and output once ---\n",
        "display(w,out)\n",
        "\n",
        "\n"
      ],
      "metadata": {
        "colab": {
          "base_uri": "https://localhost:8080/",
          "height": 66,
          "referenced_widgets": [
            "e48b5a24e0c844ad8e0836b3570cba55",
            "bef29f200be4467b9ae1bc991e03c3a5",
            "b92c5f6aad7844e8ac6de00542494838",
            "ea4e9361436d46f8895d1e476f33fdba",
            "e1208ef8642e4833b8f4786eaf87be38",
            "ec7910d1a5cc402e8530fa3b7a2fddf2",
            "fa64e78fb127499fa4c537f50820abc3",
            "2f9b91fb8bc542dc8998439d617a2ad8",
            "21d3fe4dd3a74538b487b066d122b81f",
            "ebe23b621df146d2b051d72031c39db0",
            "ce90a92858b649d79f80c55b716da692",
            "7bd7ae45eb8e45fc9005465c54b3c20a",
            "302760e0b1914bd7879bab9f4902663a",
            "8250655ac405494fad926b01d53cdfc8",
            "f4e9ac765a29425cbfe23e36abc64b43",
            "f89bb5259c9b4b34a1e0614a1ecd8e7a",
            "3ea2899bc95e4910ba0e8b53614df02e",
            "57633d5a20434d0f81b3a60c86d2e7bc",
            "73be501241624b0eb3fb14a9fb5b5111",
            "366fcfbccb76482cb19e497fcf757778",
            "b1ae0a91559a41fca9eed48ba6d9de43",
            "2152de897c584ab3bac341d3114c4814",
            "dcf1543f67724564b3322c6b07beb71c",
            "d1373c166c9c4809a7cbf32ef46e4c62",
            "acd615f5d9a4427ca3d09a07c0b57c77",
            "72f5937368f54603906dfbeb35c0a7a3",
            "da9a633fcc0644c3b28d7659c8beddd2",
            "1253fa914c71468bae14ab3847e55ada"
          ]
        },
        "id": "ZJ-RFmYoMQ8j",
        "outputId": "8ccdb92f-30b6-40e2-a15a-c89558a50059"
      },
      "execution_count": 163,
      "outputs": [
        {
          "output_type": "display_data",
          "data": {
            "text/plain": [
              "Dropdown(description='Student:', options=('', 'Alaa Barazi', 'Nour Raiaheen'), value='')"
            ],
            "application/vnd.jupyter.widget-view+json": {
              "version_major": 2,
              "version_minor": 0,
              "model_id": "e48b5a24e0c844ad8e0836b3570cba55"
            }
          },
          "metadata": {}
        },
        {
          "output_type": "display_data",
          "data": {
            "text/plain": [
              "Output()"
            ],
            "application/vnd.jupyter.widget-view+json": {
              "version_major": 2,
              "version_minor": 0,
              "model_id": "ea4e9361436d46f8895d1e476f33fdba"
            }
          },
          "metadata": {}
        }
      ]
    }
  ]
}