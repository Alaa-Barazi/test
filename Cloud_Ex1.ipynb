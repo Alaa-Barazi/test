{
  "nbformat": 4,
  "nbformat_minor": 0,
  "metadata": {
    "colab": {
      "provenance": [],
      "authorship_tag": "ABX9TyNkFh0rnH0BaCIxWX9iQIdh",
      "include_colab_link": true
    },
    "kernelspec": {
      "name": "python3",
      "display_name": "Python 3"
    },
    "language_info": {
      "name": "python"
    }
  },
  "cells": [
    {
      "cell_type": "markdown",
      "metadata": {
        "id": "view-in-github",
        "colab_type": "text"
      },
      "source": [
        "<a href=\"https://colab.research.google.com/github/Alaa-Barazi/test/blob/main/Cloud_Ex1.ipynb\" target=\"_parent\"><img src=\"https://colab.research.google.com/assets/colab-badge.svg\" alt=\"Open In Colab\"/></a>"
      ]
    },
    {
      "cell_type": "code",
      "source": [
        "# @title Form\n",
        "name = 'asasas' # @param {\"type\":\"string\"}\n",
        "sleeptime = 2 # @param {\"type\":\"integer\"}\n",
        "\n",
        "\n",
        "\n"
      ],
      "metadata": {
        "id": "w-vPFGwNC1pw"
      },
      "execution_count": null,
      "outputs": []
    },
    {
      "cell_type": "code",
      "source": [
        "import time\n",
        "print(time.ctime())\n",
        "time.sleep(sleeptime)\n",
        "print(time.ctime())"
      ],
      "metadata": {
        "id": "Gl8-vXC8DqR1"
      },
      "execution_count": null,
      "outputs": []
    },
    {
      "cell_type": "code",
      "source": [
        "#@title Default title text\n",
        "%%html\n",
        "<style>\n",
        "body {\n",
        "  background-color: #f2bcca;\n",
        "}\n",
        "</style>\n",
        "color = 'green' #@param [\"red\", \"green\", \"blue\"] print(color)\n",
        "<svg xmlns=\"https://www.w3.org/2000/svg\" viewBox=\"0 0 600 400\" width=\"400\" height=\"400\">\n",
        "   <rect x=\"10\" y=\"00\" width=\"300\" height=\"100\" rx=\"0\" style=\"fill:orange; stroke:black; fill-opacity:1.0\" />\n",
        "   <rect x=\"10\" y=\"100\" width=\"300\" height=\"100\" rx=\"0\" style=\"fill:white; stroke:black; fill-opacity:1.0;\" />\n",
        "   <rect x=\"10\" y=\"200\" width=\"300\" height=\"100\" rx=\"0\" style=\"fill:green; stroke:black; fill-opacity:1.0;\" />\n",
        "</svg>\n"
      ],
      "metadata": {
        "id": "cREk2Ez3EVK8"
      },
      "execution_count": null,
      "outputs": []
    },
    {
      "cell_type": "code",
      "source": [
        "#@title Date fields\n",
        "date_input = '2030-12-18' #@param {type:\"date\"}\n",
        "print(date_input)\n"
      ],
      "metadata": {
        "id": "KkBCckoZFPE_"
      },
      "execution_count": null,
      "outputs": []
    },
    {
      "cell_type": "code",
      "source": [
        "!cd /content/drive/MyDrive/Colab\\ Notebooks\n",
        "\n",
        "\n"
      ],
      "metadata": {
        "id": "4QXK5ud2Gr8d"
      },
      "execution_count": null,
      "outputs": []
    },
    {
      "cell_type": "code",
      "source": [
        "!cd /content/drive/MyDrive/Colab\\ Notebooks\n",
        "with open('/content/drive/MyDrive/Colab Notebooks/1.txt', 'r') as file:\n",
        "    lines = file.readlines()\n",
        "    print(lines)\n",
        "file.close()"
      ],
      "metadata": {
        "id": "ldQi8MLhJ5HX"
      },
      "execution_count": null,
      "outputs": []
    },
    {
      "cell_type": "code",
      "source": [
        "!cd /content/drive/MyDrive/Colab\\ Notebooks\n",
        "with open('/content/drive/MyDrive/Colab Notebooks/1.txt', 'a') as file:\n",
        "  file.write(\"Test Text\")"
      ],
      "metadata": {
        "id": "dljQ29KmLGHP"
      },
      "execution_count": null,
      "outputs": []
    },
    {
      "cell_type": "code",
      "source": [
        "import ipywidgets as widgets\n",
        "from IPython.display import display\n",
        "button = widgets.Button(description=\"Click Me!\")\n",
        "output = widgets.Output()\n",
        "\n",
        "def on_button_clicked(b):\n",
        "  # Display the message within the output widget.\n",
        "  with output:\n",
        "    with open('/content/drive/MyDrive/Colab Notebooks/1.txt', 'r') as file:\n",
        "      contents = file.read()\n",
        "      print(contents)\n",
        "\n",
        "button.on_click(on_button_clicked)\n",
        "display(button, output)\n",
        "\n"
      ],
      "metadata": {
        "id": "g5rq-uu-Lewh"
      },
      "execution_count": null,
      "outputs": []
    },
    {
      "cell_type": "code",
      "source": [
        "import IPython\n",
        "from IPython.core.display import display_html\n",
        "from typing import Text\n",
        "from ipywidgets import widgets\n",
        "from IPython.display import HTML\n",
        "from google.colab.output import _publish as publish\n",
        "publish.css(\"b {color: blue} body {background-color: #f2bcca}\")\n",
        "IPython.display.display_html(\"<b>foo bar</b>\", raw=True)\n",
        "w = widgets.Dropdown(\n",
        "    options=['Addition', 'Multiplication', 'Subtraction', 'Division'],\n",
        "    value='Addition',\n",
        "    description='Task:',\n",
        ")\n",
        "txt1=widgets.Text()\n",
        "txt1.value=\"1\"\n",
        "display(txt1)\n",
        "\n",
        "\n",
        "\n",
        "\n",
        "def on_change(change):\n",
        "    if change['type'] == 'change' and change['name'] == 'value':\n",
        "        print(\"changed to %s\" % change['new'])\n",
        "    txt1.value=w.value\n",
        "\n",
        "\n",
        "w.observe(on_change)\n",
        "\n",
        "\n",
        "display(w)\n",
        "\n"
      ],
      "metadata": {
        "id": "QuNwyvHELq-w"
      },
      "execution_count": null,
      "outputs": []
    },
    {
      "cell_type": "code",
      "source": [
        "from IPython.display import display\n",
        "from ipywidgets import widgets, Output, VBox\n",
        "\n",
        "file_path = '/content/drive/MyDrive/Colab Notebooks/students.txt'\n",
        "\n",
        "# --- Read students from file ---\n",
        "students = {}\n",
        "with open(file_path, 'r') as f:\n",
        "    for line in f:\n",
        "        parts = line.strip().split()\n",
        "        if len(parts) >= 5:\n",
        "            first_name = parts[0]\n",
        "            last_name = parts[1]\n",
        "            email = parts[2]\n",
        "            courses = parts[3]            # \"A,B,C,D\"\n",
        "            link = parts[4]\n",
        "            courses_list = courses.split(',')  # convert to list ['A','B','C','D']\n",
        "            full_name = f\"{first_name} {last_name}\"\n",
        "            students[full_name] = {\n",
        "                'email': email,\n",
        "                'courses': courses_list,\n",
        "                'link': link\n",
        "            }\n",
        "\n",
        "# --- Widgets ---\n",
        "w = widgets.Dropdown(\n",
        "    options=[''] + list(students.keys()),\n",
        "    value='',\n",
        "    description='Student:',\n",
        ")\n",
        "\n",
        "link = widgets.Text(description=\"Link\")\n",
        "fName = widgets.Text(description=\"First name\")\n",
        "lName = widgets.Text(description=\"Last name\")\n",
        "email = widgets.Text(description=\"Email\")\n",
        "courses = widgets.Textarea(description=\"Courses\")\n",
        "tvShow = widgets.Textarea(description=\"TV Show\")\n",
        "\n",
        "updateButton = widgets.Button(description=\"Update\", button_style='success')\n",
        "out = Output()\n",
        "\n",
        "# Make fields read-only\n",
        "fName.disabled = True\n",
        "lName.disabled = True\n",
        "email.disabled = True\n",
        "courses.disabled = True\n",
        "link.disabled = True\n",
        "\n",
        "form_box = VBox([link, fName, lName, email, courses, tvShow, updateButton])\n",
        "form_box.layout.display = 'none'\n",
        "\n",
        "# --- Functions ---\n",
        "def on_change(change):\n",
        "    if change['type'] == 'change' and change['name'] == 'value':\n",
        "        selected = change['new']\n",
        "        with out:\n",
        "            out.clear_output()\n",
        "            if selected:\n",
        "                data = students[selected]\n",
        "                first, last = selected.split(' ', 1)\n",
        "                fName.value = first\n",
        "                lName.value = last\n",
        "                email.value = data['email']\n",
        "                # Display courses with newlines\n",
        "                courses.value = '\\n'.join(data['courses'])\n",
        "                link.value = data['link']\n",
        "                form_box.layout.display = 'block'\n",
        "                display(form_box)\n",
        "            else:\n",
        "                form_box.layout.display = 'none'\n",
        "\n",
        "def on_button_clicked(b):\n",
        "    with out:\n",
        "        # Read data from fields\n",
        "        first = fName.value.strip()\n",
        "        last = lName.value.strip()\n",
        "        mail = email.value.strip()\n",
        "        # Convert courses textarea back to comma-separated string\n",
        "        crs = ','.join(courses.value.strip().split('\\n'))\n",
        "        ln = link.value.strip()\n",
        "        show = tvShow.value.strip()\n",
        "\n",
        "        # Create new line for file\n",
        "        new_line = f\"{first} {last} {mail} {crs} {ln} {show}\\n\"\n",
        "\n",
        "        # Append to file\n",
        "        with open(file_path, 'a') as file:\n",
        "            file.write(new_line)\n",
        "\n",
        "        print(f\"✅ Added: {first} {last}\")\n",
        "        form_box.layout.display = 'none'\n",
        "\n",
        "# --- Attach observers ---\n",
        "w.observe(on_change, names='value')\n",
        "updateButton.on_click(on_button_clicked)\n",
        "\n",
        "# --- Display ---\n",
        "display(w, out)\n"
      ],
      "metadata": {
        "id": "ZJ-RFmYoMQ8j"
      },
      "execution_count": null,
      "outputs": []
    }
  ]
}